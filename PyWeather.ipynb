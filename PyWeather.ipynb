{
 "cells": [
  {
   "cell_type": "code",
   "execution_count": 1,
   "metadata": {},
   "outputs": [],
   "source": [
    "import matplotlib.pyplot as plt\n",
    "import numpy as np\n",
    "import pandas as pd\n",
    "import requests\n",
    "import time\n",
    "import sys\n",
    "\n",
    "sys.path.append('../')\n",
    "\n",
    "from config import api_key_weather\n",
    "\n",
    "#Download from https://pypi.org/project/citipy/\n",
    "#conda install -c conda-forge kdtree\n",
    "from citipy import citipy\n",
    "\n",
    "#Output file\n",
    "PyWeather_output=\"PyWeather Output/cities.csv\"\n",
    "\n",
    "# Range of latitudes and longitudes\n",
    "lat_range = (-90, 90)\n",
    "lng_range = (-180, 180)"
   ]
  },
  {
   "cell_type": "code",
   "execution_count": 2,
   "metadata": {},
   "outputs": [
    {
     "data": {
      "text/plain": [
       "570"
      ]
     },
     "execution_count": 2,
     "metadata": {},
     "output_type": "execute_result"
    }
   ],
   "source": [
    "#1.0 Generate random set of latitudes and longitudes\n",
    "lat_lngs = []\n",
    "cities = []\n",
    "\n",
    "# Create a set of random lat and lng combinations\n",
    "lats = np.random.uniform(low=-90.000, high=90.000, size=1500)\n",
    "lngs = np.random.uniform(low=-180.000, high=180.000, size=1500)\n",
    "lat_lngs = zip(lats, lngs)\n",
    "\n",
    "# Identify nearest city for each lat, lng combination\n",
    "for lat_lng in lat_lngs:\n",
    "    city = citipy.nearest_city(lat_lng[0], lat_lng[1]).city_name\n",
    "    \n",
    "    # If the city is unique, then add it to a our cities list\n",
    "    if city not in cities:\n",
    "        cities.append(city)\n",
    "\n",
    "# Print the city count to confirm sufficient count\n",
    "len(cities)"
   ]
  },
  {
   "cell_type": "code",
   "execution_count": 28,
   "metadata": {},
   "outputs": [
    {
     "data": {
      "text/plain": [
       "{'coord': {'lon': -76.88, 'lat': 1.17},\n",
       " 'weather': [{'id': 500,\n",
       "   'main': 'Rain',\n",
       "   'description': 'light rain',\n",
       "   'icon': '10n'}],\n",
       " 'base': 'stations',\n",
       " 'main': {'temp': 282.1,\n",
       "  'pressure': 1015.56,\n",
       "  'humidity': 95,\n",
       "  'temp_min': 282.1,\n",
       "  'temp_max': 282.1,\n",
       "  'sea_level': 1015.56,\n",
       "  'grnd_level': 756.25},\n",
       " 'wind': {'speed': 0.7, 'deg': 167.17},\n",
       " 'rain': {'3h': 0.374},\n",
       " 'clouds': {'all': 100},\n",
       " 'dt': 1563604563,\n",
       " 'sys': {'message': 0.0095,\n",
       "  'country': 'CO',\n",
       "  'sunrise': 1563620901,\n",
       "  'sunset': 1563664739},\n",
       " 'timezone': -18000,\n",
       " 'id': 3669881,\n",
       " 'name': 'San Francisco',\n",
       " 'cod': 200}"
      ]
     },
     "execution_count": 28,
     "metadata": {},
     "output_type": "execute_result"
    }
   ],
   "source": [
    "#TO REVIEW BASIC STRUCTURE\n",
    "\n",
    "SF_url = 'https://api.openweathermap.org/data/2.5/weather?' + 'q='+\"San Francisco\"+'&appid='+api_key_weather\n",
    "json_response = requests.get(SF_url).json()\n",
    "json_response"
   ]
  },
  {
   "cell_type": "code",
   "execution_count": 6,
   "metadata": {},
   "outputs": [
    {
     "name": "stdout",
     "output_type": "stream",
     "text": [
      "Starts Retrieval\n",
      "---------------------------\n",
      "Processing Record1 |najran\n",
      "Processing Record2 |cape town\n",
      "Processing Record3 |ponta do sol\n",
      "Processing Record4 |yumen\n",
      "Processing Record5 |mataura\n",
      "Processing Record6 |totness\n",
      "Processing Record7 |ruwi\n",
      "Processing Record8 |albany\n",
      "Processing Record9 |mar del plata\n",
      "Processing Record10 |kodiak\n",
      "---------------------------\n",
      "Data Retrieval Complete\n",
      "---------------------------\n"
     ]
    }
   ],
   "source": [
    "#2.0 Obtain information from API for each random city\n",
    "\n",
    "url_input = 'https://api.openweathermap.org/data/2.5/weather?'\n",
    "\n",
    "#2.1 Create empty lists to append retrieved values\n",
    "City = []\n",
    "Cloudiness = []\n",
    "Country = []\n",
    "Date = []\n",
    "Humidity = []\n",
    "Lat = []\n",
    "Lng = []\n",
    "MAX_temp = []\n",
    "Wind_speed = []\n",
    "Total_Cities = {}\n",
    "\n",
    "print(\"Starts Retrieval\")\n",
    "print (\"---------------------------\")\n",
    "\n",
    "counter=0\n",
    "\n",
    "for i in cities:\n",
    "    #if counter < 10:\n",
    "    city_url = url_input + \"q=\"+i+\"&appid=\"+api_key_weather\n",
    "    json_response = requests.get(city_url).json()\n",
    "    \n",
    "    #cod will be 200 if the city is found, otherwise it will be 404\n",
    "    \n",
    "    if(json_response[\"cod\"]==200):\n",
    "        counter=counter+1\n",
    "        print(\"Processing Record\"+ str(counter) + \" |\"+ str(i))\n",
    "        City.append(i)\n",
    "        Country.append(json_response[\"sys\"][\"country\"])\n",
    "        Cloudiness.append(json_response[\"clouds\"][\"all\"])\n",
    "        Date.append(json_response[\"dt\"])\n",
    "        Humidity.append(json_response[\"main\"][\"humidity\"])\n",
    "        Lat.append(json_response[\"coord\"][\"lat\"])\n",
    "        Lng.append(json_response[\"coord\"][\"lon\"])\n",
    "        MAX_temp.append(json_response[\"main\"][\"temp_max\"])\n",
    "        Wind_speed.append(json_response[\"wind\"][\"speed\"])        \n",
    "    \n",
    "    else:\n",
    "        print(str(i) + \" | \" +\"City not found\")\n",
    "        \n",
    "        \n",
    "print (\"---------------------------\")\n",
    "print (\"Data Retrieval Complete\")\n",
    "print (\"---------------------------\")"
   ]
  },
  {
   "cell_type": "code",
   "execution_count": 25,
   "metadata": {},
   "outputs": [
    {
     "data": {
      "text/html": [
       "<div>\n",
       "<style scoped>\n",
       "    .dataframe tbody tr th:only-of-type {\n",
       "        vertical-align: middle;\n",
       "    }\n",
       "\n",
       "    .dataframe tbody tr th {\n",
       "        vertical-align: top;\n",
       "    }\n",
       "\n",
       "    .dataframe thead th {\n",
       "        text-align: right;\n",
       "    }\n",
       "</style>\n",
       "<table border=\"1\" class=\"dataframe\">\n",
       "  <thead>\n",
       "    <tr style=\"text-align: right;\">\n",
       "      <th></th>\n",
       "      <th>City</th>\n",
       "      <th>Country</th>\n",
       "      <th>Lat</th>\n",
       "      <th>Lng</th>\n",
       "      <th>Date</th>\n",
       "      <th>Cloudiness</th>\n",
       "      <th>Humidity</th>\n",
       "      <th>MAX Temp</th>\n",
       "      <th>Wind Speed</th>\n",
       "    </tr>\n",
       "  </thead>\n",
       "  <tbody>\n",
       "    <tr>\n",
       "      <th>0</th>\n",
       "      <td>najran</td>\n",
       "      <td>SA</td>\n",
       "      <td>17.54</td>\n",
       "      <td>44.22</td>\n",
       "      <td>1563603856</td>\n",
       "      <td>90</td>\n",
       "      <td>16</td>\n",
       "      <td>306.15</td>\n",
       "      <td>4.10</td>\n",
       "    </tr>\n",
       "    <tr>\n",
       "      <th>1</th>\n",
       "      <td>cape town</td>\n",
       "      <td>ZA</td>\n",
       "      <td>-33.93</td>\n",
       "      <td>18.42</td>\n",
       "      <td>1563604124</td>\n",
       "      <td>40</td>\n",
       "      <td>87</td>\n",
       "      <td>283.71</td>\n",
       "      <td>1.50</td>\n",
       "    </tr>\n",
       "    <tr>\n",
       "      <th>2</th>\n",
       "      <td>ponta do sol</td>\n",
       "      <td>BR</td>\n",
       "      <td>-20.63</td>\n",
       "      <td>-46.00</td>\n",
       "      <td>1563603890</td>\n",
       "      <td>9</td>\n",
       "      <td>85</td>\n",
       "      <td>283.50</td>\n",
       "      <td>2.68</td>\n",
       "    </tr>\n",
       "    <tr>\n",
       "      <th>3</th>\n",
       "      <td>yumen</td>\n",
       "      <td>CN</td>\n",
       "      <td>40.29</td>\n",
       "      <td>97.04</td>\n",
       "      <td>1563603907</td>\n",
       "      <td>99</td>\n",
       "      <td>11</td>\n",
       "      <td>305.90</td>\n",
       "      <td>2.59</td>\n",
       "    </tr>\n",
       "    <tr>\n",
       "      <th>4</th>\n",
       "      <td>mataura</td>\n",
       "      <td>NZ</td>\n",
       "      <td>-46.19</td>\n",
       "      <td>168.86</td>\n",
       "      <td>1563603924</td>\n",
       "      <td>100</td>\n",
       "      <td>98</td>\n",
       "      <td>282.04</td>\n",
       "      <td>1.79</td>\n",
       "    </tr>\n",
       "    <tr>\n",
       "      <th>5</th>\n",
       "      <td>totness</td>\n",
       "      <td>US</td>\n",
       "      <td>33.74</td>\n",
       "      <td>-80.80</td>\n",
       "      <td>1563603941</td>\n",
       "      <td>1</td>\n",
       "      <td>88</td>\n",
       "      <td>298.15</td>\n",
       "      <td>2.67</td>\n",
       "    </tr>\n",
       "    <tr>\n",
       "      <th>6</th>\n",
       "      <td>ruwi</td>\n",
       "      <td>OM</td>\n",
       "      <td>23.60</td>\n",
       "      <td>58.55</td>\n",
       "      <td>1563603958</td>\n",
       "      <td>0</td>\n",
       "      <td>75</td>\n",
       "      <td>305.15</td>\n",
       "      <td>3.10</td>\n",
       "    </tr>\n",
       "    <tr>\n",
       "      <th>7</th>\n",
       "      <td>albany</td>\n",
       "      <td>US</td>\n",
       "      <td>42.65</td>\n",
       "      <td>-73.75</td>\n",
       "      <td>1563603898</td>\n",
       "      <td>75</td>\n",
       "      <td>74</td>\n",
       "      <td>300.15</td>\n",
       "      <td>2.90</td>\n",
       "    </tr>\n",
       "    <tr>\n",
       "      <th>8</th>\n",
       "      <td>mar del plata</td>\n",
       "      <td>AR</td>\n",
       "      <td>-46.43</td>\n",
       "      <td>-67.52</td>\n",
       "      <td>1563604001</td>\n",
       "      <td>30</td>\n",
       "      <td>62</td>\n",
       "      <td>275.00</td>\n",
       "      <td>8.45</td>\n",
       "    </tr>\n",
       "    <tr>\n",
       "      <th>9</th>\n",
       "      <td>kodiak</td>\n",
       "      <td>US</td>\n",
       "      <td>39.95</td>\n",
       "      <td>-94.76</td>\n",
       "      <td>1563604030</td>\n",
       "      <td>1</td>\n",
       "      <td>70</td>\n",
       "      <td>303.15</td>\n",
       "      <td>4.60</td>\n",
       "    </tr>\n",
       "  </tbody>\n",
       "</table>\n",
       "</div>"
      ],
      "text/plain": [
       "            City Country    Lat     Lng        Date  Cloudiness  Humidity  \\\n",
       "0         najran      SA  17.54   44.22  1563603856          90        16   \n",
       "1      cape town      ZA -33.93   18.42  1563604124          40        87   \n",
       "2   ponta do sol      BR -20.63  -46.00  1563603890           9        85   \n",
       "3          yumen      CN  40.29   97.04  1563603907          99        11   \n",
       "4        mataura      NZ -46.19  168.86  1563603924         100        98   \n",
       "5        totness      US  33.74  -80.80  1563603941           1        88   \n",
       "6           ruwi      OM  23.60   58.55  1563603958           0        75   \n",
       "7         albany      US  42.65  -73.75  1563603898          75        74   \n",
       "8  mar del plata      AR -46.43  -67.52  1563604001          30        62   \n",
       "9         kodiak      US  39.95  -94.76  1563604030           1        70   \n",
       "\n",
       "   MAX Temp  Wind Speed  \n",
       "0    306.15        4.10  \n",
       "1    283.71        1.50  \n",
       "2    283.50        2.68  \n",
       "3    305.90        2.59  \n",
       "4    282.04        1.79  \n",
       "5    298.15        2.67  \n",
       "6    305.15        3.10  \n",
       "7    300.15        2.90  \n",
       "8    275.00        8.45  \n",
       "9    303.15        4.60  "
      ]
     },
     "execution_count": 25,
     "metadata": {},
     "output_type": "execute_result"
    }
   ],
   "source": [
    "#3.0 Create Data Frame\n",
    "\n",
    "Weather_df=pd.DataFrame(list(zip(City,Country,Lat,Lng,Date,Cloudiness,Humidity,MAX_temp,Wind_speed)),\n",
    "                            columns=[\"City\",\"Country\",\"Lat\",\"Lng\",\"Date\",\"Cloudiness\",\"Humidity\",\"MAX Temp\",\"Wind Speed\"])\n",
    "\n",
    "Date_info=str(Weather_df[\"Date\"][1])\n",
    "\n",
    "#3.01 Export Data Frame to a .csv\n",
    "export_csv=Weather_df.to_csv(\"PyWeather Output/Weather_df.csv\")\n",
    "Weather_df"
   ]
  },
  {
   "cell_type": "code",
   "execution_count": 34,
   "metadata": {},
   "outputs": [
    {
     "data": {
      "image/png": "[encoded data removed]",
      "text/plain": [
       "<Figure size 432x288 with 1 Axes>"
      ]
     },
     "metadata": {
      "needs_background": "light"
     },
     "output_type": "display_data"
    }
   ],
   "source": [
    "#4.0 Graphs\n",
    "\n",
    "#4.01 Latitude Vs. Tempreature Scatter\n",
    "\n",
    "plt.scatter(Weather_df[\"Lat\"], Weather_df[\"MAX Temp\"], alpha=0.5)\n",
    "plt.title(\"Latitude Vs Temperature (\" +Date_info +\")\")\n",
    "plt.xlabel(\"Latitude\")\n",
    "plt.ylabel(\"MAX Temperature (F)\")\n",
    "\n",
    "plt.show()"
   ]
  },
  {
   "cell_type": "code",
   "execution_count": 35,
   "metadata": {},
   "outputs": [
    {
     "data": {
      "image/png": "[encoded data removed]",
      "text/plain": [
       "<Figure size 432x288 with 1 Axes>"
      ]
     },
     "metadata": {
      "needs_background": "light"
     },
     "output_type": "display_data"
    }
   ],
   "source": [
    "#4.01 Latitude Vs. Humidity Scatter\n",
    "\n",
    "plt.scatter(Weather_df[\"Lat\"], Weather_df[\"Humidity\"], alpha=0.5)\n",
    "plt.title(\"Latitude Vs Humidity (\" +Date_info +\")\")\n",
    "plt.xlabel(\"Latitude\")\n",
    "plt.ylabel(\"Humidity\")\n",
    "\n",
    "plt.show()"
   ]
  },
  {
   "cell_type": "code",
   "execution_count": 36,
   "metadata": {},
   "outputs": [
    {
     "data": {
      "image/png": "[encoded data removed]",
      "text/plain": [
       "<Figure size 432x288 with 1 Axes>"
      ]
     },
     "metadata": {
      "needs_background": "light"
     },
     "output_type": "display_data"
    }
   ],
   "source": [
    "#4.01 Latitude Vs. Cloudiness Scatter\n",
    "\n",
    "plt.scatter(Weather_df[\"Lat\"], Weather_df[\"Cloudiness\"], alpha=0.5)\n",
    "plt.title(\"Latitude Vs Cloudiness% (\" +Date_info +\")\")\n",
    "plt.xlabel(\"Latitude\")\n",
    "plt.ylabel(\"Cloudiness (%)\")\n",
    "\n",
    "plt.show()"
   ]
  },
  {
   "cell_type": "code",
   "execution_count": 37,
   "metadata": {},
   "outputs": [
    {
     "data": {
      "image/png": "[encoded data removed]",
      "text/plain": [
       "<Figure size 432x288 with 1 Axes>"
      ]
     },
     "metadata": {
      "needs_background": "light"
     },
     "output_type": "display_data"
    }
   ],
   "source": [
    "#4.01 Latitude Vs. Cloudiness Scatter\n",
    "\n",
    "plt.scatter(Weather_df[\"Lat\"], Weather_df[\"Wind Speed\"], alpha=0.5)\n",
    "plt.title(\"Latitude Vs Wind Speed (\" +Date_info +\")\")\n",
    "plt.xlabel(\"Latitude\")\n",
    "plt.ylabel(\"Wind Speed (mph)\")\n",
    "\n",
    "plt.show()"
   ]
  }
 ],
 "metadata": {
  "kernelspec": {
   "display_name": "Python 3",
   "language": "python",
   "name": "python3"
  },
  "language_info": {
   "codemirror_mode": {
    "name": "ipython",
    "version": 3
   },
   "file_extension": ".py",
   "mimetype": "text/x-python",
   "name": "python",
   "nbconvert_exporter": "python",
   "pygments_lexer": "ipython3",
   "version": "3.7.3"
  }
 },
 "nbformat": 4,
 "nbformat_minor": 2
}
